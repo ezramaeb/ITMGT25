{
 "cells": [
  {
   "cell_type": "raw",
   "id": "beb20684-d855-4980-9094-70e9e6cb3bc6",
   "metadata": {},
   "source": [
    "SAVINGS"
   ]
  },
  {
   "cell_type": "code",
   "execution_count": null,
   "id": "9d2c7309-f521-425e-8257-7d9c6d0d58ed",
   "metadata": {},
   "outputs": [],
   "source": [
    "def savings(gross_pay, tax_rate, expenses):\n",
    "    '''Savings.\n",
    "    5 points.\n",
    "    This function calculates the money remaining\n",
    "        for an employee after taxes and expenses.\n",
    "    \n",
    "    To get the take-home pay of an employee, we will\n",
    "        follow the following process:\n",
    "        1. Apply the tax rate to the gross pay of the employee; round down\n",
    "        2. Subtract the expenses from the after-tax pay of the employee\n",
    "    Parameters\n",
    "    ----------\n",
    "    gross_pay: int\n",
    "        the gross pay of an employee for a certain time period, expressed in centavos\n",
    "    tax_rate: float\n",
    "        the tax rate for a certain time period, expressed as a number between 0 and 1 (e.g., 0.12)\n",
    "    expenses: int\n",
    "        the expenses of an employee for a certain time period, expressed in centavos\n",
    "    Returns\n",
    "    -------\n",
    "    int\n",
    "        the number of centavos remaining from an employee's pay after taxes and expenses\n",
    "    '''\n",
    "    # Replace `pass` with your code. \n",
    "    # Stay within the function. Only use the parameters as input. The function should return your answer.\n",
    "    return (G - int(G * r)) - E\n"
   ]
  },
  {
   "cell_type": "code",
   "execution_count": 12,
   "id": "dad95ad6-6ea3-4453-929a-967ea88f12c0",
   "metadata": {},
   "outputs": [
    {
     "data": {
      "text/plain": [
       "2750"
      ]
     },
     "execution_count": 12,
     "metadata": {},
     "output_type": "execute_result"
    }
   ],
   "source": [
    "def savings(G, r, E):\n",
    "    return (G - int(G * r)) - E\n",
    "\n",
    "savings(5000, 0.25, 1000)"
   ]
  },
  {
   "cell_type": "raw",
   "id": "15de95fe-0afe-49d4-b270-72108e5a50ec",
   "metadata": {},
   "source": [
    "MATERIAL WASTE"
   ]
  },
  {
   "cell_type": "code",
   "execution_count": null,
   "id": "fafb9555-b0c8-4e3f-ad10-61f1e6553a19",
   "metadata": {},
   "outputs": [],
   "source": [
    "def material_waste(total_material, material_units, num_jobs, job_consumption):\n",
    "    '''Material Waste.\n",
    "    5 points.\n",
    "    This function calculates how much material input will be wasted\n",
    "        after running a certain number of jobs that consume\n",
    "        a set amount of material.\n",
    "    To get the waste of a set of jobs:\n",
    "        1. Multiply the number of jobs by the material consumption per job.\n",
    "        2. Subtract the total material consumed from the total material available.\n",
    "    The users of this function also want you to format the output as a string, annotated with the\n",
    "        units in which the material is expressed. Do not add a space between the number and the unit.\n",
    "    Parameters\n",
    "    ----------\n",
    "    total_material: int\n",
    "        the total material available\n",
    "    material_units: str\n",
    "        the units used to express a quantity of the material (e.g., \"kg\", \"L\", etc.)\n",
    "    num_jobs: int\n",
    "        the number of jobs to run\n",
    "    job_consumption: int\n",
    "        the amount of material consumed per job\n",
    "    Returns\n",
    "    -------\n",
    "    str\n",
    "        the amount of remaining material expressed with its unit (e.g., \"10kg\").\n",
    "    '''\n",
    "    # Replace `pass` with your code. \n",
    "    # Stay within the function. Only use the parameters as input. The function should return your answer.\n",
    "    return str(T - (J * C)) + U\n"
   ]
  },
  {
   "cell_type": "code",
   "execution_count": 14,
   "id": "9d18eb58-cd54-406a-9fea-ae31d9335a32",
   "metadata": {},
   "outputs": [
    {
     "data": {
      "text/plain": [
       "'800kg'"
      ]
     },
     "execution_count": 14,
     "metadata": {},
     "output_type": "execute_result"
    }
   ],
   "source": [
    "def material_waste(T, U, J, C):\n",
    "    return str(T - (J * C)) + U\n",
    "\n",
    "material_waste(5000, \"kg\", 60, 70)"
   ]
  },
  {
   "cell_type": "raw",
   "id": "d759388b-6290-42d2-bd49-ff5732e0bd0f",
   "metadata": {
    "tags": []
   },
   "source": [
    "INTEREST"
   ]
  },
  {
   "cell_type": "code",
   "execution_count": null,
   "id": "333f3df4-795d-417e-9d2d-51876d3f70c4",
   "metadata": {},
   "outputs": [],
   "source": [
    "def interest(principal, rate, periods):\n",
    "    '''Interest.\n",
    "    5 points.\n",
    "    This function calculates the final value of an investment after\n",
    "        gaining simple interest over a number of periods.\n",
    "    To calculate simple interest, simply multiply the principal to the quantity (rate * time). \n",
    "        Add this amount to the principal to get the final value.\n",
    "    Round down the final amount.\n",
    "    Parameters\n",
    "    ----------\n",
    "    principal: int\n",
    "        the principal (i.e., starting) amount invested, expressed in centavos\n",
    "    rate: float\n",
    "        the interest rate per period, expressed as a decimal representation of a percentage (e.g., 3% is 0.03)\n",
    "    periods: int\n",
    "        the number of periods invested\n",
    "    Returns\n",
    "    -------\n",
    "    int\n",
    "        the final value of the investment\n",
    "    '''\n",
    "    # Replace `pass` with your code. \n",
    "    # Stay within the function. Only use the parameters as input. The function should return your answer.\n",
    "    return int(P + (P * (r * t)))"
   ]
  },
  {
   "cell_type": "code",
   "execution_count": 15,
   "id": "eecc4a23-bd91-4db5-8f5a-97b79f754240",
   "metadata": {},
   "outputs": [
    {
     "data": {
      "text/plain": [
       "22500"
      ]
     },
     "execution_count": 15,
     "metadata": {},
     "output_type": "execute_result"
    }
   ],
   "source": [
    "def interest(P, r, t):\n",
    "    return int(P + (P * (r * t)))\n",
    "\n",
    "interest(10_000, 0.25, 5)"
   ]
  },
  {
   "cell_type": "raw",
   "id": "80dbcf93-4e1e-4963-8a3a-64395357e4a5",
   "metadata": {},
   "source": [
    "BODY MASS INDEX"
   ]
  },
  {
   "cell_type": "code",
   "execution_count": null,
   "id": "f67bf2ed-d76e-4421-a0a1-2626df2bae33",
   "metadata": {},
   "outputs": [],
   "source": [
    "def body_mass_index(weight, height):\n",
    "    '''Body Mass Index.\n",
    "    5 points.\n",
    "    This function calculates the body mass index (BMI) of a person\n",
    "        given their weight and height.\n",
    "    The formula for BMI is: kg / (m ^ 2)\n",
    "        (i.e., kilograms over meters squared)\n",
    "    Unfortunately, the users of this function use the imperial system.\n",
    "        You will need to first convert their arguments to the metric system.\n",
    "    \n",
    "    Parameters\n",
    "    ----------\n",
    "    weight: float\n",
    "        the weight of the person, in pounds\n",
    "    height: list\n",
    "        the height of the person, expressed as a list of two integers.\n",
    "        the first integer is the foot component of their height.\n",
    "        the second integer is the inches component of their height.\n",
    "        for example, 5'10\" would be passed as [5, 10].\n",
    "    Returns\n",
    "    -------\n",
    "    float\n",
    "        the BMI of the person.\n",
    "    '''\n",
    "    # Replace `pass` with your code. \n",
    "    # Stay within the function. Only use the parameters as input. The function should return your answer.\n",
    "    return float((w / 2.2) / ((h[0] * 12 + h[1]) / 39.37) ** 2)\n"
   ]
  },
  {
   "cell_type": "code",
   "execution_count": 20,
   "id": "7f366862-afad-44f0-b9fc-8b142d1bd227",
   "metadata": {},
   "outputs": [
    {
     "data": {
      "text/plain": [
       "20.411138968019344"
      ]
     },
     "execution_count": 20,
     "metadata": {},
     "output_type": "execute_result"
    }
   ],
   "source": [
    "def body_mass_index(w, h):\n",
    "    return float((w / 2.2) / ((h[0] * 12 + h[1]) / 39.37) ** 2)\n",
    "\n",
    "body_mass_index(107.8, [5, 1])"
   ]
  },
  {
   "cell_type": "code",
   "execution_count": null,
   "id": "0844c3c4-8249-4ebd-88cb-17a43798f677",
   "metadata": {},
   "outputs": [],
   "source": []
  }
 ],
 "metadata": {
  "kernelspec": {
   "display_name": "Python 3 (ipykernel)",
   "language": "python",
   "name": "python3"
  },
  "language_info": {
   "codemirror_mode": {
    "name": "ipython",
    "version": 3
   },
   "file_extension": ".py",
   "mimetype": "text/x-python",
   "name": "python",
   "nbconvert_exporter": "python",
   "pygments_lexer": "ipython3",
   "version": "3.9.12"
  }
 },
 "nbformat": 4,
 "nbformat_minor": 5
}
